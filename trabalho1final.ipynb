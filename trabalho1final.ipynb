import pandas as pd
import matplotlib.pyplot as plt
from matplotlib import cm

colunas = [-180,-150,-120,-90,-60,-30,0,30,60,90,120,150,180]
indices = [90,80,70,60,50,40,30,20,10,0]

data = pd.read_csv('fortaleza2.csv', index_col = False, header = None)


data2= data.values


norm = cm.colors.Normalize(vmax=abs(data2).max(), vmin=abs(data2).min())


fig, ax = plt.subplots(figsize = (10,7))
cs = ax.contourf(colunas, indices, data2,levels = 15)
ax.set_title('Inradiação Média Inclinada')
ax.set_xlabel("Inclinação Azimultal")
ax.set_ylabel("Inclinação Horizontal")
ax.set_xticks(colunas)
ax.clabel(cs, inline=True, fontsize=10, colors='k')
ax.contour(cs, colors='k')
ax.grid(c='k', ls='-', alpha=0.3)
cbar = fig.colorbar(cs,ticks = (np.arange(2.0,6.0,0.25)))

plt.show()