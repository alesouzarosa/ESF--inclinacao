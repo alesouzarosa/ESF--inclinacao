{
 "metadata": {
  "language_info": {
   "codemirror_mode": {
    "name": "ipython",
    "version": 3
   },
   "file_extension": ".py",
   "mimetype": "text/x-python",
   "name": "python",
   "nbconvert_exporter": "python",
   "pygments_lexer": "ipython3",
   "version": 3
  },
  "orig_nbformat": 2
 },
 "nbformat": 4,
 "nbformat_minor": 2,
 "cells": [
  {
   "cell_type": "code",
   "execution_count": null,
   "metadata": {},
   "outputs": [],
   "source": [
    "import pandas as pd\n",
    "import matplotlib.pyplot as plt\n",
    "from matplotlib import cm\n",
    "\n",
    "colunas = [-180,-150,-120,-90,-60,-30,0,30,60,90,120,150,180]\n",
    "indices = [90,80,70,60,50,40,30,20,10,0]\n",
    "\n",
    "data = pd.read_csv('fortaleza2.csv', index_col = False, header = None)\n",
    "\n",
    "\n",
    "data2= data.values\n",
    "\n",
    "\n",
    "norm = cm.colors.Normalize(vmax=abs(data2).max(), vmin=abs(data2).min())\n",
    "\n",
    "\n",
    "fig, ax = plt.subplots(figsize = (10,7))\n",
    "cs = ax.contourf(colunas, indices, data2,levels = 15)\n",
    "ax.set_title('Inradiação Média Inclinada')\n",
    "ax.set_xlabel(\"Inclinação Azimultal\")\n",
    "ax.set_ylabel(\"Inclinação Horizontal\")\n",
    "ax.set_xticks(colunas)\n",
    "ax.clabel(cs, inline=True, fontsize=10, colors='k')\n",
    "ax.contour(cs, colors='k')\n",
    "ax.grid(c='k', ls='-', alpha=0.3)\n",
    "cbar = fig.colorbar(cs,ticks = (np.arange(2.0,6.0,0.25)))\n",
    "\n",
    "plt.show()"
   ]
  }
 ]
}